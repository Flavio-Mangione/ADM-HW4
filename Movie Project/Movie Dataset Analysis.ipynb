{
 "cells": [
  {
   "cell_type": "markdown",
   "id": "6a29863a",
   "metadata": {},
   "source": [
    "# <h1> Movie Recommendation System <img src=\"https://www.pngall.com/wp-content/uploads/13/Movie-Hollywood-No-Background.png\" width=200 style=\"vertical-align: middle\"> </h1> \n",
    "\n",
    "## **Introduction**\n",
    "Our team has been tasked with designing a state-of-the-art recommendation system that leverages advanced data analysis techniques to enhance user engagement. The project focuses on two critical areas: hashing techniques to optimize data retrieval speed and clustering algorithms to group users based on shared movie preferences. \n",
    "By combining these approaches, we aim to deliver faster, more accurate, and highly personalized movie recommendations that align with individual tastes and behaviors.This project not only addresses the technical challenges of scalability and precision in recommendation systems but also paves the way for deeper insights into user behavior, enabling a more immersive and satisfying entertainment experience."
   ]
  },
  {
   "cell_type": "markdown",
   "id": "a7d66edb",
   "metadata": {},
   "source": [
    "<h3> <b> Import Libraries </b> <img src=\"https://preview.redd.it/snoovatar/avatars/nftv2_bmZ0X2VpcDE1NToxMzdfZWI5NTlhNzE1ZGZmZmU2ZjgyZjQ2MDU1MzM5ODJjNDg1OWNiMTRmZV8yMTQ1NzYzNg_rare_46f1cdb1-634f-4c1d-8344-2be06c7880d4-headshot.png?width=256&height=256&crop=smart&auto=webp&s=400ead9440c7a9f06ca4c44953f24c5b765c4aac\" width=150 style=\"vertical-align: middle\"> </h3>"
   ]
  },
  {
   "cell_type": "code",
   "execution_count": 93,
   "id": "6ce83c0b",
   "metadata": {},
   "outputs": [
    {
     "name": "stdout",
     "output_type": "stream",
     "text": [
      "Requirement already satisfied: pandas in c:\\users\\flavi\\anaconda3\\lib\\site-packages (2.0.3)\n",
      "Requirement already satisfied: numpy in c:\\users\\flavi\\anaconda3\\lib\\site-packages (1.24.3)\n",
      "Requirement already satisfied: tqdm in c:\\users\\flavi\\anaconda3\\lib\\site-packages (4.67.0)\n",
      "Requirement already satisfied: seaborn in c:\\users\\flavi\\anaconda3\\lib\\site-packages (0.12.2)\n",
      "Requirement already satisfied: python-dateutil>=2.8.2 in c:\\users\\flavi\\anaconda3\\lib\\site-packages (from pandas) (2.8.2)\n",
      "Requirement already satisfied: pytz>=2020.1 in c:\\users\\flavi\\anaconda3\\lib\\site-packages (from pandas) (2023.3.post1)\n",
      "Requirement already satisfied: tzdata>=2022.1 in c:\\users\\flavi\\anaconda3\\lib\\site-packages (from pandas) (2023.3)\n",
      "Requirement already satisfied: colorama in c:\\users\\flavi\\anaconda3\\lib\\site-packages (from tqdm) (0.4.6)\n",
      "Requirement already satisfied: matplotlib!=3.6.1,>=3.1 in c:\\users\\flavi\\anaconda3\\lib\\site-packages (from seaborn) (3.7.2)\n",
      "Requirement already satisfied: contourpy>=1.0.1 in c:\\users\\flavi\\anaconda3\\lib\\site-packages (from matplotlib!=3.6.1,>=3.1->seaborn) (1.0.5)\n",
      "Requirement already satisfied: cycler>=0.10 in c:\\users\\flavi\\anaconda3\\lib\\site-packages (from matplotlib!=3.6.1,>=3.1->seaborn) (0.11.0)\n",
      "Requirement already satisfied: fonttools>=4.22.0 in c:\\users\\flavi\\anaconda3\\lib\\site-packages (from matplotlib!=3.6.1,>=3.1->seaborn) (4.25.0)\n",
      "Requirement already satisfied: kiwisolver>=1.0.1 in c:\\users\\flavi\\anaconda3\\lib\\site-packages (from matplotlib!=3.6.1,>=3.1->seaborn) (1.4.4)\n",
      "Requirement already satisfied: packaging>=20.0 in c:\\users\\flavi\\anaconda3\\lib\\site-packages (from matplotlib!=3.6.1,>=3.1->seaborn) (23.1)\n",
      "Requirement already satisfied: pillow>=6.2.0 in c:\\users\\flavi\\anaconda3\\lib\\site-packages (from matplotlib!=3.6.1,>=3.1->seaborn) (10.2.0)\n",
      "Requirement already satisfied: pyparsing<3.1,>=2.3.1 in c:\\users\\flavi\\anaconda3\\lib\\site-packages (from matplotlib!=3.6.1,>=3.1->seaborn) (3.0.9)\n",
      "Requirement already satisfied: six>=1.5 in c:\\users\\flavi\\anaconda3\\lib\\site-packages (from python-dateutil>=2.8.2->pandas) (1.16.0)\n"
     ]
    }
   ],
   "source": [
    "!pip install pandas numpy tqdm seaborn\n",
    "\n",
    "import pandas as pd\n",
    "import numpy as np \n",
    "from tqdm import tqdm\n",
    "import matplotlib.pyplot as plt\n",
    "import seaborn as sns\n",
    "import random"
   ]
  },
  {
   "cell_type": "markdown",
   "id": "a9d6c8a7-d54a-462c-9404-eaae0eaf9c44",
   "metadata": {},
   "source": [
    "# 1.0 Recommendation System with LSH"
   ]
  },
  {
   "cell_type": "markdown",
   "id": "06af8617",
   "metadata": {},
   "source": [
    "In this section, we will implement a recommendation system by identifying users with similar preferences and suggesting movies based on their behavior. Specifically, we will implement our version of the **LSH algorithm**."
   ]
  },
  {
   "cell_type": "markdown",
   "id": "298c6aef",
   "metadata": {},
   "source": [
    "## 1.1 Data Preparation"
   ]
  },
  {
   "cell_type": "code",
   "execution_count": 94,
   "id": "cc41fbe4-a0b0-4d99-8f33-5bb0db5dfc75",
   "metadata": {
    "tags": []
   },
   "outputs": [],
   "source": [
    "import zipfile\n",
    "\n",
    "# Path to the ZIP file\n",
    "zip_file = \"E:\\MovieLens 20M Dataset.zip\"\n",
    "\n",
    "# Extract the file to the current directory\n",
    "with zipfile.ZipFile(zip_file, 'r') as zip_ref:\n",
    "    zip_ref.extractall()  # \".\" means extract to the current directory"
   ]
  },
  {
   "cell_type": "code",
   "execution_count": 95,
   "id": "64a9617c-d952-415c-9dbd-335e9c9eff1b",
   "metadata": {
    "tags": []
   },
   "outputs": [
    {
     "data": {
      "text/html": [
       "<div>\n",
       "<style scoped>\n",
       "    .dataframe tbody tr th:only-of-type {\n",
       "        vertical-align: middle;\n",
       "    }\n",
       "\n",
       "    .dataframe tbody tr th {\n",
       "        vertical-align: top;\n",
       "    }\n",
       "\n",
       "    .dataframe thead th {\n",
       "        text-align: right;\n",
       "    }\n",
       "</style>\n",
       "<table border=\"1\" class=\"dataframe\">\n",
       "  <thead>\n",
       "    <tr style=\"text-align: right;\">\n",
       "      <th></th>\n",
       "      <th>userId</th>\n",
       "      <th>movieId</th>\n",
       "      <th>rating</th>\n",
       "      <th>timestamp</th>\n",
       "    </tr>\n",
       "  </thead>\n",
       "  <tbody>\n",
       "    <tr>\n",
       "      <th>0</th>\n",
       "      <td>1</td>\n",
       "      <td>2</td>\n",
       "      <td>3.5</td>\n",
       "      <td>2005-04-02 23:53:47</td>\n",
       "    </tr>\n",
       "    <tr>\n",
       "      <th>1</th>\n",
       "      <td>1</td>\n",
       "      <td>29</td>\n",
       "      <td>3.5</td>\n",
       "      <td>2005-04-02 23:31:16</td>\n",
       "    </tr>\n",
       "    <tr>\n",
       "      <th>2</th>\n",
       "      <td>1</td>\n",
       "      <td>32</td>\n",
       "      <td>3.5</td>\n",
       "      <td>2005-04-02 23:33:39</td>\n",
       "    </tr>\n",
       "    <tr>\n",
       "      <th>3</th>\n",
       "      <td>1</td>\n",
       "      <td>47</td>\n",
       "      <td>3.5</td>\n",
       "      <td>2005-04-02 23:32:07</td>\n",
       "    </tr>\n",
       "    <tr>\n",
       "      <th>4</th>\n",
       "      <td>1</td>\n",
       "      <td>50</td>\n",
       "      <td>3.5</td>\n",
       "      <td>2005-04-02 23:29:40</td>\n",
       "    </tr>\n",
       "  </tbody>\n",
       "</table>\n",
       "</div>"
      ],
      "text/plain": [
       "   userId  movieId  rating            timestamp\n",
       "0       1        2     3.5  2005-04-02 23:53:47\n",
       "1       1       29     3.5  2005-04-02 23:31:16\n",
       "2       1       32     3.5  2005-04-02 23:33:39\n",
       "3       1       47     3.5  2005-04-02 23:32:07\n",
       "4       1       50     3.5  2005-04-02 23:29:40"
      ]
     },
     "execution_count": 95,
     "metadata": {},
     "output_type": "execute_result"
    }
   ],
   "source": [
    "# Import rating dataset that contain userId,MovieId,Rating informations\n",
    "rating=pd.read_csv(\"rating.csv\")\n",
    "rating.head()"
   ]
  },
  {
   "cell_type": "code",
   "execution_count": 96,
   "id": "d445284e",
   "metadata": {},
   "outputs": [
    {
     "name": "stdout",
     "output_type": "stream",
     "text": [
      "<class 'pandas.core.frame.DataFrame'>\n",
      "RangeIndex: 20000263 entries, 0 to 20000262\n",
      "Data columns (total 4 columns):\n",
      " #   Column     Dtype  \n",
      "---  ------     -----  \n",
      " 0   userId     int64  \n",
      " 1   movieId    int64  \n",
      " 2   rating     float64\n",
      " 3   timestamp  object \n",
      "dtypes: float64(1), int64(2), object(1)\n",
      "memory usage: 610.4+ MB\n"
     ]
    },
    {
     "data": {
      "text/plain": [
       "(<bound method DataFrame.info of           userId  movieId  rating            timestamp\n",
       " 0              1        2     3.5  2005-04-02 23:53:47\n",
       " 1              1       29     3.5  2005-04-02 23:31:16\n",
       " 2              1       32     3.5  2005-04-02 23:33:39\n",
       " 3              1       47     3.5  2005-04-02 23:32:07\n",
       " 4              1       50     3.5  2005-04-02 23:29:40\n",
       " ...          ...      ...     ...                  ...\n",
       " 20000258  138493    68954     4.5  2009-11-13 15:42:00\n",
       " 20000259  138493    69526     4.5  2009-12-03 18:31:48\n",
       " 20000260  138493    69644     3.0  2009-12-07 18:10:57\n",
       " 20000261  138493    70286     5.0  2009-11-13 15:42:24\n",
       " 20000262  138493    71619     2.5  2009-10-17 20:25:36\n",
       " \n",
       " [20000263 rows x 4 columns]>,\n",
       " None)"
      ]
     },
     "execution_count": 96,
     "metadata": {},
     "output_type": "execute_result"
    }
   ],
   "source": [
    "# Show the Rating Dataset informations\n",
    "rating.info,rating.info()"
   ]
  },
  {
   "cell_type": "code",
   "execution_count": 97,
   "id": "21ad8ba5-7012-4db6-ab1d-2b1c0b80dd7f",
   "metadata": {
    "tags": []
   },
   "outputs": [
    {
     "data": {
      "text/html": [
       "<div>\n",
       "<style scoped>\n",
       "    .dataframe tbody tr th:only-of-type {\n",
       "        vertical-align: middle;\n",
       "    }\n",
       "\n",
       "    .dataframe tbody tr th {\n",
       "        vertical-align: top;\n",
       "    }\n",
       "\n",
       "    .dataframe thead th {\n",
       "        text-align: right;\n",
       "    }\n",
       "</style>\n",
       "<table border=\"1\" class=\"dataframe\">\n",
       "  <thead>\n",
       "    <tr style=\"text-align: right;\">\n",
       "      <th></th>\n",
       "      <th>movieId</th>\n",
       "      <th>title</th>\n",
       "      <th>genres</th>\n",
       "    </tr>\n",
       "  </thead>\n",
       "  <tbody>\n",
       "    <tr>\n",
       "      <th>0</th>\n",
       "      <td>1</td>\n",
       "      <td>Toy Story (1995)</td>\n",
       "      <td>Adventure|Animation|Children|Comedy|Fantasy</td>\n",
       "    </tr>\n",
       "    <tr>\n",
       "      <th>1</th>\n",
       "      <td>2</td>\n",
       "      <td>Jumanji (1995)</td>\n",
       "      <td>Adventure|Children|Fantasy</td>\n",
       "    </tr>\n",
       "    <tr>\n",
       "      <th>2</th>\n",
       "      <td>3</td>\n",
       "      <td>Grumpier Old Men (1995)</td>\n",
       "      <td>Comedy|Romance</td>\n",
       "    </tr>\n",
       "    <tr>\n",
       "      <th>3</th>\n",
       "      <td>4</td>\n",
       "      <td>Waiting to Exhale (1995)</td>\n",
       "      <td>Comedy|Drama|Romance</td>\n",
       "    </tr>\n",
       "    <tr>\n",
       "      <th>4</th>\n",
       "      <td>5</td>\n",
       "      <td>Father of the Bride Part II (1995)</td>\n",
       "      <td>Comedy</td>\n",
       "    </tr>\n",
       "  </tbody>\n",
       "</table>\n",
       "</div>"
      ],
      "text/plain": [
       "   movieId                               title  \\\n",
       "0        1                    Toy Story (1995)   \n",
       "1        2                      Jumanji (1995)   \n",
       "2        3             Grumpier Old Men (1995)   \n",
       "3        4            Waiting to Exhale (1995)   \n",
       "4        5  Father of the Bride Part II (1995)   \n",
       "\n",
       "                                        genres  \n",
       "0  Adventure|Animation|Children|Comedy|Fantasy  \n",
       "1                   Adventure|Children|Fantasy  \n",
       "2                               Comedy|Romance  \n",
       "3                         Comedy|Drama|Romance  \n",
       "4                                       Comedy  "
      ]
     },
     "execution_count": 97,
     "metadata": {},
     "output_type": "execute_result"
    }
   ],
   "source": [
    "# import the movie dataset with all movie title and genres\n",
    "movie=pd.read_csv(\"movie.csv\")\n",
    "movie.head()"
   ]
  },
  {
   "cell_type": "code",
   "execution_count": 98,
   "id": "8cb86362-0e28-457f-9b28-ef04f2dd5c24",
   "metadata": {
    "tags": []
   },
   "outputs": [],
   "source": [
    "# Define a function to obtain the film title without date\n",
    "def splitter_title(text):\n",
    "    text=text.split(\"(\")\n",
    "    return text[0]"
   ]
  },
  {
   "cell_type": "code",
   "execution_count": 99,
   "id": "8978f883-229d-4e26-a7a3-a7408c9dc690",
   "metadata": {
    "tags": []
   },
   "outputs": [
    {
     "data": {
      "text/html": [
       "<div>\n",
       "<style scoped>\n",
       "    .dataframe tbody tr th:only-of-type {\n",
       "        vertical-align: middle;\n",
       "    }\n",
       "\n",
       "    .dataframe tbody tr th {\n",
       "        vertical-align: top;\n",
       "    }\n",
       "\n",
       "    .dataframe thead th {\n",
       "        text-align: right;\n",
       "    }\n",
       "</style>\n",
       "<table border=\"1\" class=\"dataframe\">\n",
       "  <thead>\n",
       "    <tr style=\"text-align: right;\">\n",
       "      <th></th>\n",
       "      <th>movieId</th>\n",
       "      <th>title</th>\n",
       "      <th>genres</th>\n",
       "      <th>title2</th>\n",
       "      <th>genre_list</th>\n",
       "    </tr>\n",
       "  </thead>\n",
       "  <tbody>\n",
       "    <tr>\n",
       "      <th>0</th>\n",
       "      <td>1</td>\n",
       "      <td>Toy Story (1995)</td>\n",
       "      <td>Adventure|Animation|Children|Comedy|Fantasy</td>\n",
       "      <td>Toy Story</td>\n",
       "      <td>[Adventure, Animation, Children, Comedy, Fantasy]</td>\n",
       "    </tr>\n",
       "    <tr>\n",
       "      <th>1</th>\n",
       "      <td>2</td>\n",
       "      <td>Jumanji (1995)</td>\n",
       "      <td>Adventure|Children|Fantasy</td>\n",
       "      <td>Jumanji</td>\n",
       "      <td>[Adventure, Children, Fantasy]</td>\n",
       "    </tr>\n",
       "    <tr>\n",
       "      <th>2</th>\n",
       "      <td>3</td>\n",
       "      <td>Grumpier Old Men (1995)</td>\n",
       "      <td>Comedy|Romance</td>\n",
       "      <td>Grumpier Old Men</td>\n",
       "      <td>[Comedy, Romance]</td>\n",
       "    </tr>\n",
       "    <tr>\n",
       "      <th>3</th>\n",
       "      <td>4</td>\n",
       "      <td>Waiting to Exhale (1995)</td>\n",
       "      <td>Comedy|Drama|Romance</td>\n",
       "      <td>Waiting to Exhale</td>\n",
       "      <td>[Comedy, Drama, Romance]</td>\n",
       "    </tr>\n",
       "    <tr>\n",
       "      <th>4</th>\n",
       "      <td>5</td>\n",
       "      <td>Father of the Bride Part II (1995)</td>\n",
       "      <td>Comedy</td>\n",
       "      <td>Father of the Bride Part II</td>\n",
       "      <td>[Comedy]</td>\n",
       "    </tr>\n",
       "  </tbody>\n",
       "</table>\n",
       "</div>"
      ],
      "text/plain": [
       "   movieId                               title  \\\n",
       "0        1                    Toy Story (1995)   \n",
       "1        2                      Jumanji (1995)   \n",
       "2        3             Grumpier Old Men (1995)   \n",
       "3        4            Waiting to Exhale (1995)   \n",
       "4        5  Father of the Bride Part II (1995)   \n",
       "\n",
       "                                        genres                        title2  \\\n",
       "0  Adventure|Animation|Children|Comedy|Fantasy                    Toy Story    \n",
       "1                   Adventure|Children|Fantasy                      Jumanji    \n",
       "2                               Comedy|Romance             Grumpier Old Men    \n",
       "3                         Comedy|Drama|Romance            Waiting to Exhale    \n",
       "4                                       Comedy  Father of the Bride Part II    \n",
       "\n",
       "                                          genre_list  \n",
       "0  [Adventure, Animation, Children, Comedy, Fantasy]  \n",
       "1                     [Adventure, Children, Fantasy]  \n",
       "2                                  [Comedy, Romance]  \n",
       "3                           [Comedy, Drama, Romance]  \n",
       "4                                           [Comedy]  "
      ]
     },
     "execution_count": 99,
     "metadata": {},
     "output_type": "execute_result"
    }
   ],
   "source": [
    "# Apply the splitter_title function to the \"title\" column and store the result in \"title2\"\n",
    "movie[\"title2\"] = movie[\"title\"].apply(splitter_title)\n",
    "\n",
    "# Split the \"genres\" column by \"|\" and store the resulting list in \"genre_list\"\n",
    "movie[\"genre_list\"] = movie[\"genres\"].str.split(\"|\")\n",
    "\n",
    "# Display the first 5 rows of the DataFrame to check the new columns\n",
    "movie.head()"
   ]
  },
  {
   "cell_type": "markdown",
   "id": "802ffde3",
   "metadata": {},
   "source": [
    "### Why we use `map` instead of `merge`?\n",
    "\n",
    "In this context, `map` is used because it is computationally more efficient for simple one-to-one mappings compared to `merge`. Here's why:\n",
    "\n",
    "1. **Performance**:  \n",
    "   `map` is faster when you need to map a single column based on a key-value relationship, as it avoids the overhead of merging entire DataFrames.\n",
    "\n",
    "2. **Memory Usage**:  \n",
    "   `map` consumes less RAM memory since it only operates on the relevant column and does not create a new DataFrame, unlike `merge`.\n",
    "\n"
   ]
  },
  {
   "cell_type": "code",
   "execution_count": 100,
   "id": "531360fa-4c5b-46e3-a663-94c59eac6d36",
   "metadata": {
    "tags": []
   },
   "outputs": [],
   "source": [
    "# Map 'title2' column to 'Movie Title'\n",
    "rating[\"Movie Title\"] = rating['movieId'].map(movie.set_index('movieId')['title2'])\n",
    "\n",
    "# Map 'genre_list' column to 'Genre'\n",
    "rating[\"Genre\"] = rating['movieId'].map(movie.set_index('movieId')['genre_list'])"
   ]
  },
  {
   "cell_type": "code",
   "execution_count": 101,
   "id": "a8f87695-70d5-4547-9622-4f10060d0b4b",
   "metadata": {
    "tags": []
   },
   "outputs": [
    {
     "data": {
      "text/html": [
       "<div>\n",
       "<style scoped>\n",
       "    .dataframe tbody tr th:only-of-type {\n",
       "        vertical-align: middle;\n",
       "    }\n",
       "\n",
       "    .dataframe tbody tr th {\n",
       "        vertical-align: top;\n",
       "    }\n",
       "\n",
       "    .dataframe thead th {\n",
       "        text-align: right;\n",
       "    }\n",
       "</style>\n",
       "<table border=\"1\" class=\"dataframe\">\n",
       "  <thead>\n",
       "    <tr style=\"text-align: right;\">\n",
       "      <th></th>\n",
       "      <th>userId</th>\n",
       "      <th>movieId</th>\n",
       "      <th>rating</th>\n",
       "      <th>timestamp</th>\n",
       "      <th>Movie Title</th>\n",
       "      <th>Genre</th>\n",
       "    </tr>\n",
       "  </thead>\n",
       "  <tbody>\n",
       "    <tr>\n",
       "      <th>0</th>\n",
       "      <td>1</td>\n",
       "      <td>2</td>\n",
       "      <td>3.5</td>\n",
       "      <td>2005-04-02 23:53:47</td>\n",
       "      <td>Jumanji</td>\n",
       "      <td>[Adventure, Children, Fantasy]</td>\n",
       "    </tr>\n",
       "    <tr>\n",
       "      <th>1</th>\n",
       "      <td>1</td>\n",
       "      <td>29</td>\n",
       "      <td>3.5</td>\n",
       "      <td>2005-04-02 23:31:16</td>\n",
       "      <td>City of Lost Children, The</td>\n",
       "      <td>[Adventure, Drama, Fantasy, Mystery, Sci-Fi]</td>\n",
       "    </tr>\n",
       "    <tr>\n",
       "      <th>2</th>\n",
       "      <td>1</td>\n",
       "      <td>32</td>\n",
       "      <td>3.5</td>\n",
       "      <td>2005-04-02 23:33:39</td>\n",
       "      <td>Twelve Monkeys</td>\n",
       "      <td>[Mystery, Sci-Fi, Thriller]</td>\n",
       "    </tr>\n",
       "    <tr>\n",
       "      <th>3</th>\n",
       "      <td>1</td>\n",
       "      <td>47</td>\n",
       "      <td>3.5</td>\n",
       "      <td>2005-04-02 23:32:07</td>\n",
       "      <td>Seven</td>\n",
       "      <td>[Mystery, Thriller]</td>\n",
       "    </tr>\n",
       "    <tr>\n",
       "      <th>4</th>\n",
       "      <td>1</td>\n",
       "      <td>50</td>\n",
       "      <td>3.5</td>\n",
       "      <td>2005-04-02 23:29:40</td>\n",
       "      <td>Usual Suspects, The</td>\n",
       "      <td>[Crime, Mystery, Thriller]</td>\n",
       "    </tr>\n",
       "  </tbody>\n",
       "</table>\n",
       "</div>"
      ],
      "text/plain": [
       "   userId  movieId  rating            timestamp                  Movie Title  \\\n",
       "0       1        2     3.5  2005-04-02 23:53:47                     Jumanji    \n",
       "1       1       29     3.5  2005-04-02 23:31:16  City of Lost Children, The    \n",
       "2       1       32     3.5  2005-04-02 23:33:39              Twelve Monkeys    \n",
       "3       1       47     3.5  2005-04-02 23:32:07                       Seven    \n",
       "4       1       50     3.5  2005-04-02 23:29:40         Usual Suspects, The    \n",
       "\n",
       "                                          Genre  \n",
       "0                [Adventure, Children, Fantasy]  \n",
       "1  [Adventure, Drama, Fantasy, Mystery, Sci-Fi]  \n",
       "2                   [Mystery, Sci-Fi, Thriller]  \n",
       "3                           [Mystery, Thriller]  \n",
       "4                    [Crime, Mystery, Thriller]  "
      ]
     },
     "execution_count": 101,
     "metadata": {},
     "output_type": "execute_result"
    }
   ],
   "source": [
    "rating.head()"
   ]
  },
  {
   "cell_type": "code",
   "execution_count": 102,
   "id": "1b65d995-9a56-4a41-9407-f7d617c9645c",
   "metadata": {
    "tags": []
   },
   "outputs": [
    {
     "name": "stdout",
     "output_type": "stream",
     "text": [
      "<class 'pandas.core.frame.DataFrame'>\n",
      "RangeIndex: 20000263 entries, 0 to 20000262\n",
      "Data columns (total 6 columns):\n",
      " #   Column       Dtype  \n",
      "---  ------       -----  \n",
      " 0   userId       int64  \n",
      " 1   movieId      int64  \n",
      " 2   rating       float64\n",
      " 3   timestamp    object \n",
      " 4   Movie Title  object \n",
      " 5   Genre        object \n",
      "dtypes: float64(1), int64(2), object(3)\n",
      "memory usage: 915.5+ MB\n"
     ]
    }
   ],
   "source": [
    "# Show the new Rating Dataset informations\n",
    "rating.info()"
   ]
  },
  {
   "cell_type": "markdown",
   "id": "3ce7e0d7",
   "metadata": {},
   "source": [
    "<h4> <strong> Optimizing Data Types </strong> </h4>\n",
    "\n",
    "Importance of Data Type Conversion\n",
    "\n",
    "Converting `int64` to `int32` or `float64` to `float32` reduces memory usage, speeds up computations, and enables efficient handling of large datasets. This optimization saves resources and enhances performance in data processing."
   ]
  },
  {
   "cell_type": "code",
   "execution_count": 103,
   "id": "2de6b4d9",
   "metadata": {},
   "outputs": [],
   "source": [
    "# Loop through each column in the DataFrame\n",
    "for column in rating.columns:\n",
    "    # Convert types of rating DataFrame columns \n",
    "    if rating[column].dtype == 'int64':\n",
    "        rating[column] = rating[column].astype('int32')\n",
    "    elif rating[column].dtype == 'float64':\n",
    "        rating[column] = rating[column].astype('float32')"
   ]
  },
  {
   "cell_type": "code",
   "execution_count": 104,
   "id": "fb7e3bdc",
   "metadata": {},
   "outputs": [
    {
     "name": "stdout",
     "output_type": "stream",
     "text": [
      "<class 'pandas.core.frame.DataFrame'>\n",
      "RangeIndex: 20000263 entries, 0 to 20000262\n",
      "Data columns (total 6 columns):\n",
      " #   Column       Dtype  \n",
      "---  ------       -----  \n",
      " 0   userId       int32  \n",
      " 1   movieId      int32  \n",
      " 2   rating       float32\n",
      " 3   timestamp    object \n",
      " 4   Movie Title  object \n",
      " 5   Genre        object \n",
      "dtypes: float32(1), int32(2), object(3)\n",
      "memory usage: 686.7+ MB\n"
     ]
    }
   ],
   "source": [
    "# Show the new Rating Dataset informations\n",
    "rating.info()"
   ]
  },
  {
   "cell_type": "code",
   "execution_count": 105,
   "id": "dc098e7d",
   "metadata": {},
   "outputs": [
    {
     "data": {
      "text/html": [
       "<div>\n",
       "<style scoped>\n",
       "    .dataframe tbody tr th:only-of-type {\n",
       "        vertical-align: middle;\n",
       "    }\n",
       "\n",
       "    .dataframe tbody tr th {\n",
       "        vertical-align: top;\n",
       "    }\n",
       "\n",
       "    .dataframe thead th {\n",
       "        text-align: right;\n",
       "    }\n",
       "</style>\n",
       "<table border=\"1\" class=\"dataframe\">\n",
       "  <thead>\n",
       "    <tr style=\"text-align: right;\">\n",
       "      <th></th>\n",
       "      <th>userId</th>\n",
       "      <th>movieId</th>\n",
       "      <th>rating</th>\n",
       "    </tr>\n",
       "  </thead>\n",
       "  <tbody>\n",
       "    <tr>\n",
       "      <th>count</th>\n",
       "      <td>2.000026e+07</td>\n",
       "      <td>2.000026e+07</td>\n",
       "      <td>2.000026e+07</td>\n",
       "    </tr>\n",
       "    <tr>\n",
       "      <th>mean</th>\n",
       "      <td>6.904587e+04</td>\n",
       "      <td>9.041567e+03</td>\n",
       "      <td>3.525529e+00</td>\n",
       "    </tr>\n",
       "    <tr>\n",
       "      <th>std</th>\n",
       "      <td>4.003863e+04</td>\n",
       "      <td>1.978948e+04</td>\n",
       "      <td>9.998490e-01</td>\n",
       "    </tr>\n",
       "    <tr>\n",
       "      <th>min</th>\n",
       "      <td>1.000000e+00</td>\n",
       "      <td>1.000000e+00</td>\n",
       "      <td>5.000000e-01</td>\n",
       "    </tr>\n",
       "    <tr>\n",
       "      <th>25%</th>\n",
       "      <td>3.439500e+04</td>\n",
       "      <td>9.020000e+02</td>\n",
       "      <td>3.000000e+00</td>\n",
       "    </tr>\n",
       "    <tr>\n",
       "      <th>50%</th>\n",
       "      <td>6.914100e+04</td>\n",
       "      <td>2.167000e+03</td>\n",
       "      <td>3.500000e+00</td>\n",
       "    </tr>\n",
       "    <tr>\n",
       "      <th>75%</th>\n",
       "      <td>1.036370e+05</td>\n",
       "      <td>4.770000e+03</td>\n",
       "      <td>4.000000e+00</td>\n",
       "    </tr>\n",
       "    <tr>\n",
       "      <th>max</th>\n",
       "      <td>1.384930e+05</td>\n",
       "      <td>1.312620e+05</td>\n",
       "      <td>5.000000e+00</td>\n",
       "    </tr>\n",
       "  </tbody>\n",
       "</table>\n",
       "</div>"
      ],
      "text/plain": [
       "             userId       movieId        rating\n",
       "count  2.000026e+07  2.000026e+07  2.000026e+07\n",
       "mean   6.904587e+04  9.041567e+03  3.525529e+00\n",
       "std    4.003863e+04  1.978948e+04  9.998490e-01\n",
       "min    1.000000e+00  1.000000e+00  5.000000e-01\n",
       "25%    3.439500e+04  9.020000e+02  3.000000e+00\n",
       "50%    6.914100e+04  2.167000e+03  3.500000e+00\n",
       "75%    1.036370e+05  4.770000e+03  4.000000e+00\n",
       "max    1.384930e+05  1.312620e+05  5.000000e+00"
      ]
     },
     "execution_count": 105,
     "metadata": {},
     "output_type": "execute_result"
    }
   ],
   "source": [
    "# Generate a statistical summary of the rating DataFrame\n",
    "rating.describe()"
   ]
  },
  {
   "cell_type": "code",
   "execution_count": 49,
   "id": "500b999c-e3b5-4578-912b-9f9a14886610",
   "metadata": {
    "tags": []
   },
   "outputs": [
    {
     "data": {
      "text/plain": [
       "userId         0\n",
       "movieId        0\n",
       "rating         0\n",
       "timestamp      0\n",
       "Movie Title    0\n",
       "Genre          0\n",
       "dtype: int64"
      ]
     },
     "execution_count": 49,
     "metadata": {},
     "output_type": "execute_result"
    }
   ],
   "source": [
    "# Check if there are NA values in the dataset\n",
    "rating.isnull().sum()"
   ]
  },
  {
   "cell_type": "markdown",
   "id": "c76499a7",
   "metadata": {},
   "source": [
    "### Information about the dataset"
   ]
  },
  {
   "cell_type": "markdown",
   "id": "c60b505c",
   "metadata": {},
   "source": [
    "#### 1. **Time range and the number of movies released for each year**"
   ]
  },
  {
   "cell_type": "code",
   "execution_count": 106,
   "id": "7174a121-d3fa-4718-9062-99c924a81226",
   "metadata": {
    "tags": []
   },
   "outputs": [
    {
     "name": "stdout",
     "output_type": "stream",
     "text": [
      "The dataset covers a time range of 20 years, from 1995 to 2015\n"
     ]
    }
   ],
   "source": [
    "# Convert the \"timestamp\" column to datetime format\n",
    "rating[\"timestamp\"] = pd.to_datetime(rating[\"timestamp\"])\n",
    "\n",
    "# Calculate the time range in years and print it with better formatting\n",
    "time_range_years = rating[\"timestamp\"].max().year - rating[\"timestamp\"].min().year\n",
    "print(f\"The dataset covers a time range of {time_range_years} years, from {rating['timestamp'].min().year} to {rating['timestamp'].max().year}\")"
   ]
  },
  {
   "cell_type": "code",
   "execution_count": 107,
   "id": "91464713",
   "metadata": {},
   "outputs": [
    {
     "name": "stdout",
     "output_type": "stream",
     "text": [
      "year\n",
      "1996     331\n",
      "1997     143\n",
      "1998      99\n",
      "1999     773\n",
      "2000     485\n",
      "2001     666\n",
      "2002    1026\n",
      "2003     548\n",
      "2004     495\n",
      "2005    1121\n",
      "2006     512\n",
      "2007    1267\n",
      "2008     774\n",
      "2009    1516\n",
      "2010    1844\n",
      "2011    2219\n",
      "2012    2324\n",
      "2013    2495\n",
      "2014    3720\n",
      "2015    2963\n",
      "Name: count, dtype: int64\n"
     ]
    }
   ],
   "source": [
    "# Define a new column with only year of timestamp column\n",
    "rating['year'] = rating['timestamp'].dt.year\n",
    "\n",
    "# Count unique movies per year\n",
    "movies_per_year = rating.drop_duplicates(subset='Movie Title')['year'].value_counts().sort_index()\n",
    "\n",
    "# Show the results\n",
    "print(movies_per_year)"
   ]
  },
  {
   "cell_type": "code",
   "execution_count": 108,
   "id": "d5a6cdfe",
   "metadata": {},
   "outputs": [
    {
     "data": {
      "image/png": "[encoded data removed]",
      "text/plain": [
       "<Figure size 1000x600 with 1 Axes>"
      ]
     },
     "metadata": {},
     "output_type": "display_data"
    }
   ],
   "source": [
    "# Create a bar chart to see the number of movies released for each year\n",
    "\n",
    "plt.figure(figsize=(10, 6))\n",
    "sns.barplot(x=movies_per_year.index, y=movies_per_year.values, palette='viridis',edgecolor=\"black\")  \n",
    "plt.title('Number of movies released per year', fontsize=16, fontweight='bold')\n",
    "plt.xlabel('Years', fontsize=14)\n",
    "plt.ylabel('Number of movies', fontsize=14)\n",
    "\n",
    "plt.grid(linestyle='--',linewidth=0.5,color=\"black\")\n",
    "plt.tight_layout()\n",
    "plt.show()"
   ]
  },
  {
   "cell_type": "markdown",
   "id": "117a4f7a",
   "metadata": {},
   "source": [
    "The graph shows a clear upward trend in the number of movies released per year, with a significant spike in 2014 reaching over 3,000 movies. The data suggests that the movie industry has experienced substantial growth and expansion over the past two decades, with an increasing number of films being produced and released annually."
   ]
  },
  {
   "cell_type": "markdown",
   "id": "dfdb6382",
   "metadata": {},
   "source": [
    "#### 2. **Number of reviews per user**"
   ]
  },
  {
   "cell_type": "code",
   "execution_count": 109,
   "id": "f1656737-17d9-476c-8def-c5a46d710841",
   "metadata": {
    "tags": []
   },
   "outputs": [
    {
     "name": "stdout",
     "output_type": "stream",
     "text": [
      "Top 5 users with the most ratings:\n",
      "userId\n",
      "118205    9254\n",
      "8405      7515\n",
      "82418     5646\n",
      "121535    5520\n",
      "125794    5491\n",
      "Name: rating, dtype: int64\n",
      "\n",
      "Bottom 5 users with the fewest ratings:\n",
      "userId\n",
      "89305     20\n",
      "110463    20\n",
      "96990     20\n",
      "134747    20\n",
      "6526      20\n",
      "Name: rating, dtype: int64\n"
     ]
    }
   ],
   "source": [
    "# Group by 'userId', count the number of ratings each user has, and sort in descending order\n",
    "user_rating_counts = rating.groupby('userId')['rating'].apply(len).sort_values(ascending=False)\n",
    "\n",
    "# Print the results with clear labels\n",
    "print(f\"Top 5 users with the most ratings:\\n{user_rating_counts.head(5)}\")\n",
    "print(f\"\\nBottom 5 users with the fewest ratings:\\n{user_rating_counts.tail(5)}\")"
   ]
  },
  {
   "cell_type": "markdown",
   "id": "4fd899f1",
   "metadata": {},
   "source": [
    "There are users who have watched more than 5000 different movies. Probably those who have watched so many movies are usually film critics, journalists or extremely dedicated film enthusiasts."
   ]
  },
  {
   "cell_type": "code",
   "execution_count": 110,
   "id": "cb347b89",
   "metadata": {},
   "outputs": [
    {
     "data": {
      "text/plain": [
       "count    138493\n",
       "mean        144\n",
       "std         230\n",
       "min          20\n",
       "25%          35\n",
       "50%          68\n",
       "75%         155\n",
       "max        9254\n",
       "Name: rating, dtype: int32"
      ]
     },
     "execution_count": 110,
     "metadata": {},
     "output_type": "execute_result"
    }
   ],
   "source": [
    "# Show more information about user_rating_counts\n",
    "user_rating_counts.describe().astype(np.int32)"
   ]
  },
  {
   "cell_type": "markdown",
   "id": "8000e7c8-a5c2-4bd7-9b9b-47298ec99a5c",
   "metadata": {},
   "source": [
    "# 1.2.0 Minhash Signatures"
   ]
  },
  {
   "cell_type": "markdown",
   "id": "ae5c850d",
   "metadata": {},
   "source": [
    "This function will **hash** each user's watched movie list to create a **signature vector**, which provides a compact representation of the user's preferences. By using **MinHash**, we can generate these signature vectors based on the movies that each user has rated. The key advantage of using MinHash is that it allows for **quick comparisons** of user similarity without directly comparing their entire lists of movies.\n",
    "\n",
    "### Steps:\n",
    "1. **Hash User's Movie List**: For each user, we generate a hash based on their watched movies.\n",
    "2. **MinHash Signatures**: The MinHash function creates a **signature vector** for each user, which is a compressed version of their movie list.\n",
    "3. **Efficient Similarity Comparison**: These signature vectors make it faster to compare users, enabling quick identification of similar users based on their movie preferences.\n"
   ]
  },
  {
   "cell_type": "code",
   "execution_count": 111,
   "id": "87a7cca4-2425-4a00-878d-f844ee06ea23",
   "metadata": {
    "tags": []
   },
   "outputs": [
    {
     "name": "stdout",
     "output_type": "stream",
     "text": [
      "User Movies:\n",
      "User 1: {2, 3081, 4105, 1036, 5146, 541, 29, 32, 4128, 4133, 47, 1584, 5679, 50, 5171, 2100, 1079, 1080, 1089, 1090, 2628, 2118, 1097, 589, 7757, 7247, 593, 3153, 2644, 2648, 2138, 2140, 2143, 6242, 6754, 6755, 2664, 112, 1136, 4720, 6774, 2683, 2173, 2174, 4226, 2692, 653, 2193, 2194, 4754, 151, 6807, 2716, 5797, 1193, 1196, 1198, 1200, 1201, 6834, 8368, 1208, 5816, 6333, 1214, 1215, 1217, 3265, 1219, 1222, 2761, 2762, 2253, 4306, 1750, 1240, 1243, 7387, 7389, 1246, 223, 1249, 6888, 1258, 1259, 1261, 1262, 2288, 1266, 2291, 2804, 253, 1278, 8961, 260, 5898, 1291, 4878, 7438, 1304, 7449, 7454, 4896, 8482, 293, 296, 1321, 4911, 3889, 4915, 1333, 1848, 2872, 7482, 8507, 318, 5952, 1348, 1350, 4941, 1358, 337, 7001, 1370, 3932, 1374, 4446, 2918, 6502, 1387, 3438, 367, 5999, 4467, 4980, 1920, 2944, 4993, 2947, 7045, 7046, 6539, 2959, 3476, 919, 2968, 3479, 924, 3996, 3997, 3489, 5026, 5540, 3499, 4011, 1967, 5039, 5040, 3000, 4027, 8636, 1994, 1997, 6093, 31696, 3030, 4571, 3037, 2021, 2542, 1009, 7153, 8690, 1525, 7164}\n",
      "User 2: {3, 260, 2948, 2951, 1544, 1673, 266, 908, 2454, 2455, 924, 541, 3753, 2858, 1196, 1580, 1965, 1327, 1969, 1970, 1971, 1972, 1973, 1974, 3513, 1210, 1214, 62, 1986, 70, 1356, 589, 3150, 3534, 3917, 3918, 3959, 3923, 1748, 469, 3926, 3159, 3927, 3928, 3930, 480, 1121, 1249, 3555, 3937, 3173, 2791, 1259, 3565, 110, 242, 2291, 1270, 3703, 3450, 891}\n",
      "User 3: {512, 1, 3072, 2053, 2054, 2567, 1544, 2571, 1037, 2574, 24, 3098, 2076, 541, 32, 1060, 2093, 1584, 1073, 50, 1077, 2613, 1079, 2615, 2105, 1084, 1089, 1603, 2628, 2117, 1094, 2118, 3142, 1097, 589, 1103, 2640, 593, 2642, 2643, 3070, 2140, 2657, 610, 1125, 2150, 1127, 2662, 1129, 2668, 2676, 1653, 2694, 1674, 2699, 1676, 2710, 1179, 160, 2722, 1188, 1193, 1196, 173, 1197, 175, 1198, 1199, 1200, 1206, 1208, 1721, 1210, 2236, 1213, 1214, 1215, 2750, 1219, 196, 1220, 1222, 1221, 1225, 1228, 718, 1230, 1240, 1242, 223, 1247, 1762, 2788, 2791, 1257, 1258, 1259, 1261, 2797, 2288, 1266, 1779, 1270, 1272, 2808, 1276, 1278, 260, 2311, 1288, 780, 1810, 788, 1304, 2329, 1307, 1831, 1321, 2857, 1330, 1333, 2872, 316, 318, 2366, 1345, 2371, 329, 1356, 337, 1876, 2900, 2901, 2391, 858, 1882, 1372, 1373, 1374, 1375, 1376, 2916, 2918, 2407, 1396, 1909, 2428, 1917, 1921, 2947, 2948, 2949, 904, 905, 2448, 919, 2455, 2968, 924, 2985, 2986, 440, 953, 442, 5060, 968, 457, 2505, 2009, 3033, 2011, 2012, 3039, 480, 2528, 2018, 2529, 2530, 2531, 2532, 2533, 490, 2028, 2541, 2034, 2551, 2046}\n",
      "User 4: {6, 519, 520, 10, 19, 531, 32, 420, 165, 548, 431, 440, 454, 329, 586, 589, 594, 596, 733, 350, 480, 356, 489, 367, 368, 370, 377, 380}\n",
      "User 5: {2, 515, 260, 1028, 648, 11, 140, 141, 780, 1035, 1036, 17, 529, 531, 788, 1042, 150, 282, 671, 1196, 1198, 1073, 1079, 440, 1080, 1210, 316, 60, 318, 62, 832, 708, 454, 457, 1097, 587, 588, 589, 590, 720, 593, 594, 595, 475, 350, 224, 480, 608, 736, 1291, 104, 235, 364, 491, 110, 367, 368, 508, 370, 1136, 500, 1393, 631, 376, 377, 380}\n"
     ]
    }
   ],
   "source": [
    "# Group the 'rating' DataFrame by 'userId', then apply 'set()' to the 'movieId' for each user.\n",
    "user_movies=rating.groupby('userId')['movieId'].apply(set).to_dict()\n",
    "print(\"User Movies:\")\n",
    "for user, movies in list(user_movies.items())[:5]:  # Display the first 5 users\n",
    "    print(f\"User {user}: {movies}\")"
   ]
  },
  {
   "cell_type": "markdown",
   "id": "1ff107b5",
   "metadata": {},
   "source": [
    "MinHash is a technique used for approximating the similarity between sets, such as the set of movies each user has watched in a recommendation system. It uses multiple hash functions to generate **signature vectors** that represent the set of movies a user has rated.\n",
    "\n",
    "For the MinHash we defined three different type of Hash function. In details:\n",
    "\n",
    "## The three Hash Functions:\n",
    "\n",
    "### 1. **Linear Hash Function**\n",
    "The **linear** hash function is the simplest type, using the formula:\n",
    "\n",
    "$ Hash(x) = (a \\cdot x + b) \\mod p $\n",
    "\n",
    "Where:\n",
    "- **a** and **b** are random coefficients ;\n",
    "- **p** is a prime number (for example 10513) ;\n",
    "- **x** is the movie ID.\n",
    "\n",
    "The idea behind this hash function is to perform a linear transformation of the movie ID, and then take the result modulo p. This produces a unique integer for each movie, which is used to create the signature.\n",
    "\n",
    "---\n",
    "\n",
    "### 2. **Polynomial Hash Function**\n",
    "The **polynomial** hash function works similarly to the linear function, but instead of a simple linear transformation, it applies polynomial powers to the movie ID. The formula is:\n",
    "\n",
    "$ Hash(x) =  \\sum_{i=0}^{n} c_i \\cdot (x^i) \\mod p $\n",
    "\n",
    "Where:\n",
    "- $\\mathbf{c_{i}}$ are random coefficients for each power of x ;\n",
    "- **p** is a prime number (for example 10513) ;\n",
    "- **n** is the degree of the polynomial ;\n",
    "- **x** is the movie ID.\n",
    "\n",
    "In this case, the movie ID is raised to successive powers, with each term multiplied by a corresponding random coefficient. The sum is then taken modulo **p**.\n",
    "\n",
    "---\n",
    "\n",
    "### 3. **Universal Hash Function**\n",
    "The **universal** hash function is a more advanced form of hashing that uses `double hashing` to reduce the probability of collisions in a hash table. The idea is to apply two hash functions and combine the results to get a more uniform distribution of hashes.\n",
    "The second hash function applies an additional step using the value obtained from the first function ($ Hash_1(x) $ ) and a larger modulus m.\n",
    "\n",
    "$ Hash_1(x) $ = $ ((a \\cdot x + b) \\mod p) $  \n",
    "\n",
    "$ Hash_2(x) $ = $ ((a \\cdot Hash_1(x) + b) \\mod m) $  \n",
    "\n",
    "$ Hash_{1,2}(x)=(Hash_1(x)+Hash_2(x)) \\mod m $\n",
    "\n",
    "Where:\n",
    "- **a** and **b** are random coefficients ;\n",
    "- **p** is a prime number (for example 10513) ;\n",
    "- **m** is the modulus used to limit the hash output to a specific range. It is generally a prime number larger than the modulus used in the first hash function to reduce the risk of collisions.\n",
    "\n",
    "### MinHash Process:\n",
    "\n",
    "1. **Random Coefficients** : For each hash function, random values a and b are generated within the range of the modulus p ;\n",
    "   \n",
    "2. **Hashing Process** : For each movie in the user's watched list, apply the formula \\hash(x) for each hash function. This results in a unique integer value (hash) for each movie ;\n",
    "\n",
    "3. **Signature Vector** : The minimum hash value for each of the hash functions is selected from the set of movie hashes. This set of minimum values across all hash functions forms the **signature vector** for the user.\n"
   ]
  },
  {
   "cell_type": "code",
   "execution_count": 112,
   "id": "14cb63f3-dbd0-41cc-b3a8-0893600922f2",
   "metadata": {
    "tags": []
   },
   "outputs": [
    {
     "name": "stdout",
     "output_type": "stream",
     "text": [
      "Help on class MinHash in module minhash_similarity:\n",
      "\n",
      "class MinHash(builtins.object)\n",
      " |  MinHash(n_hash_functions: int = 100, prime_number: int = 10513, type_function: str = 'linear')\n",
      " |  \n",
      " |  Methods defined here:\n",
      " |  \n",
      " |  __init__(self, n_hash_functions: int = 100, prime_number: int = 10513, type_function: str = 'linear')\n",
      " |      Initialize MinHash with a specified number of hash functions.\n",
      " |      \n",
      " |      Args:\n",
      " |          n_hash_functions: Number of hash functions to use for creating signatures (default is 100)\n",
      " |          prime: A higher prime number for the hash function (default is 10513)\n",
      " |          type_function: Type of hash function to use ('linear', 'universal', 'polynomial')\n",
      " |  \n",
      " |  create_signature(self, movie_set)\n",
      " |      Create MinHash signature for a set of movies.\n",
      " |      \n",
      " |      Args:\n",
      " |          movie_set: Set of movie IDs\n",
      " |          \n",
      " |      Returns:\n",
      " |          np.ndarray: MinHash signature (array of minimum hash values)\n",
      " |  \n",
      " |  hash_function(self, x, a, b, i)\n",
      " |      Apply the selected hash function based on type_function. \n",
      " |      (linear, polynomial, universal)\n",
      " |      \n",
      " |      Args:\n",
      " |          x: The value to hash (movie ID)\n",
      " |          a, b: Random coefficients used in the hash function\n",
      " |          i: Index of the current hash function\n",
      " |      \n",
      " |      Returns:\n",
      " |          int: Hashed value\n",
      " |  \n",
      " |  jaccard_similarity(self, signature1, signature2)\n",
      " |      Estimate Jaccard similarity between two MinHash signatures.\n",
      " |      \n",
      " |      Args:\n",
      " |          signature1: First MinHash signature\n",
      " |          signature2: Second MinHash signature\n",
      " |      \n",
      " |      Returns:\n",
      " |          float: Estimated Jaccard similarity (0-1)\n",
      " |  \n",
      " |  ----------------------------------------------------------------------\n",
      " |  Data descriptors defined here:\n",
      " |  \n",
      " |  __dict__\n",
      " |      dictionary for instance variables (if defined)\n",
      " |  \n",
      " |  __weakref__\n",
      " |      list of weak references to the object (if defined)\n",
      "\n"
     ]
    }
   ],
   "source": [
    "from minhash_similarity import MinHash\n",
    "\n",
    "# Show the informations about the two functions of the MinHash module:\n",
    "help(MinHash)"
   ]
  },
  {
   "cell_type": "markdown",
   "id": "ca5b4682-adb0-4ee3-9405-175e69068e8c",
   "metadata": {},
   "source": [
    "### **Minhash signatures and Jaccard Similarity**"
   ]
  },
  {
   "cell_type": "code",
   "execution_count": 113,
   "id": "a431ae27-b6f9-4ef3-ae74-1f6182a5637b",
   "metadata": {
    "tags": []
   },
   "outputs": [],
   "source": [
    "from tqdm import tqdm\n",
    "\n",
    "def generate_signatures(user_movies: dict, num_hash_function: int,function_name: str):\n",
    "\n",
    "    minhash=MinHash(num_hash_function,type_function=function_name)\n",
    "     # Initialize an empty dictionary to store the MinHash signatures for each user.\n",
    "    signatures = {}\n",
    "\n",
    "    # Iterate over each user and their associated movie set in the `user_movies` dictionary.\n",
    "    # Use tqdm to display a progress bar for tracking the loop's progress.\n",
    "\n",
    "    for user_id, movies in tqdm(user_movies.items(), desc=\"Generating Signatures\", total=len(user_movies)):\n",
    "        signatures[user_id] = minhash.create_signature(movies)   # Generate a MinHash signature for the current user's movie set and store it.\n",
    "    return signatures"
   ]
  },
  {
   "cell_type": "markdown",
   "id": "ffe7e1bb",
   "metadata": {},
   "source": [
    "**Jaccard Similarity** (or Jaccard Index) is a statistical measure used to compare the similarity and diversity between two sets. It is commonly used to calculate the similarity between two sets of items, such as the sets of movies watched by two users in a recommendation system.\n",
    "\n",
    "## Formula:\n",
    "\n",
    "The formula to calculate Jaccard Similarity between two sets A and B is as follows:\n",
    "\n",
    "$$\\ J(A, B) = \\frac{|A \\cap B|}{|A \\cup B|}\\$$\n",
    "\n",
    "Where:\n",
    "- \\|A $\\cap B|$ is the **cardinality of the intersection** of A and B , the number of elements common to both sets.\n",
    "- \\|A $\\cup B|$ is the **cardinality of the union** of  A and B , the total number of elements present in at least one of the two sets.\n"
   ]
  },
  {
   "cell_type": "code",
   "execution_count": 114,
   "id": "c1ba0624",
   "metadata": {},
   "outputs": [],
   "source": [
    "def exact_jaccard_similarity(sig1, sig2):\n",
    "    \"\"\"\n",
    "    sig1 : the signature of the user 1\n",
    "    sig2 : the signature of the user 2\n",
    "    \"\"\"\n",
    "    intersection = len(sig1 & sig2)\n",
    "    union = len(sig1 | sig2)\n",
    "    return intersection / union # Returns Jaccard similarity value between 0 and 1"
   ]
  },
  {
   "cell_type": "markdown",
   "id": "3421dffa",
   "metadata": {},
   "source": [
    "### `compute_similarities` function\n",
    "\n",
    "This function calculates Jaccard similarity between randomly sampled user pairs (5000 samples) to reduce computation time. Instead of comparing all users, it randomly selects a subset for similarity calculation using MinHash. \n",
    "\n",
    "Pairs with estimated Jaccard similarity above a given threshold (0.6) are considered similar.\n",
    "\n",
    "- **Random Sampling:** 1000 random user pairs are selected ;\n",
    "- **Thresholding:** Pairs with estimated similarity above the threshold are counted as similar ;\n",
    "- **Outputs:** The function prints the most similar pairs, average loss and the count of similar/non-similar user pairs.\n",
    "\n",
    "**Considerations**\n",
    "\n",
    "We chose this sample size to evaluate whether the Jaccard similarities estimated by the algorithm align with the real Jaccard similarities of the users. Conducting a complete analysis involving all users would have required nearly 10 billion comparisons, making it hard computationally.\n"
   ]
  },
  {
   "cell_type": "code",
   "execution_count": 117,
   "id": "74d58293-b6d8-4d70-ac47-5f9cefa9c3ed",
   "metadata": {
    "tags": []
   },
   "outputs": [],
   "source": [
    "def compute_similarities(user_signatures, user_movies, max_results=10, similarity_threshold=0.6, hash_functions=100):\n",
    "    # Initialize a counter to track the number of similar user pairs above the threshold\n",
    "    similar_users_count=0\n",
    "    # Set a random seed for reproducibility of results\n",
    "    np.random.seed(213242)\n",
    "    \n",
    "    # Select 1000 random user IDs to compute similarities\n",
    "    user_ids = np.random.choice(range(1, len(user_movies) + 1), 5000, replace=False)\n",
    "    \n",
    "    # Initialize dictionaries to store similarities and losses\n",
    "    similarities, losses = {}, []\n",
    "\n",
    "    # Create MinHash instance \n",
    "    minhash = MinHash(n_hash_functions=hash_functions)\n",
    "\n",
    "    for i in range(len(user_ids)):\n",
    "        for j in range(i + 1, len(user_ids)):\n",
    "            \n",
    "            # Estimate Jaccard similarity using MinHash signatures\n",
    "            est_sim = minhash.jaccard_similarity(user_signatures[user_ids[i]], user_signatures[user_ids[j]])\n",
    "            \n",
    "            # Filter pairs above certain similarity threshold\n",
    "            if est_sim > similarity_threshold:\n",
    "\n",
    "                similar_users_count += 1  # Increment the counter for similar users\n",
    "\n",
    "                # Compute exact Jaccard similarity\n",
    "                exact_sim = exact_jaccard_similarity(user_movies[user_ids[i]], user_movies[user_ids[j]])\n",
    "                \n",
    "                # Calculate loss between estimated and exact similarities\n",
    "                loss = abs(est_sim - exact_sim)\n",
    "                losses.append(loss)\n",
    "                \n",
    "                # Store similarity information\n",
    "                similarities[(user_ids[i], user_ids[j])] = (est_sim, exact_sim, loss)\n",
    "    \n",
    "    # Sort similarities by estimated similarity in descending order\n",
    "    sorted_sims = sorted(similarities.items(), key=lambda x: x[1][0], reverse=True)[:max_results]\n",
    "    \n",
    "    # Print details of top similar user pairs\n",
    "    for (user1, user2), (est_sim, exact_sim, loss) in sorted_sims:\n",
    "        print(f\"Users: ({user1}, {user2}) --> Estimated: {est_sim:.2f}, Exact: {exact_sim:.2f}, Loss: {loss:.2f}\")\n",
    "    \n",
    "    # Calculate average loss\n",
    "    avg_loss = np.mean(losses) \n",
    "    print(f\"\\nAverage Loss: {avg_loss:.4f}\")\n",
    "    print(f\"\\nNumber of similar user pairs (estimated similarity > {similarity_threshold}): {similar_users_count}, Number of non similar user pairs is {len(user_ids)-similar_users_count}\")"
   ]
  },
  {
   "cell_type": "code",
   "execution_count": 118,
   "id": "dc403795",
   "metadata": {},
   "outputs": [
    {
     "name": "stdout",
     "output_type": "stream",
     "text": [
      "Generating signatures with Linear hash function --> 50 hash functions:\n"
     ]
    },
    {
     "name": "stderr",
     "output_type": "stream",
     "text": [
      "Generating Signatures: 100%|██████████| 138493/138493 [00:53<00:00, 2590.33it/s]\n"
     ]
    },
    {
     "name": "stdout",
     "output_type": "stream",
     "text": [
      "--------------------------------------------------------------------------------\n",
      "Generating signatures with Universal hash function --> 50 hash functions:\n"
     ]
    },
    {
     "name": "stderr",
     "output_type": "stream",
     "text": [
      "Generating Signatures: 100%|██████████| 138493/138493 [01:24<00:00, 1636.29it/s]\n"
     ]
    },
    {
     "name": "stdout",
     "output_type": "stream",
     "text": [
      "--------------------------------------------------------------------------------\n",
      "Generating signatures with Polynomial hash function --> 50 hash functions:\n"
     ]
    },
    {
     "name": "stderr",
     "output_type": "stream",
     "text": [
      "Generating Signatures: 100%|██████████| 138493/138493 [01:15<00:00, 1830.55it/s]\n"
     ]
    }
   ],
   "source": [
    "# Print and generate signatures with different types of hash functions and 50 hash functions\n",
    "\n",
    "# Using Linear hash functions\n",
    "\n",
    "print(\"Generating signatures with Linear hash function --> 50 hash functions:\")\n",
    "signatures_linear_50 = generate_signatures(user_movies, 50 , function_name='linear')\n",
    "print(\"-\" * 80)\n",
    "\n",
    "# Using Universal hash functions\n",
    "\n",
    "print(\"Generating signatures with Universal hash function --> 50 hash functions:\")\n",
    "signatures_universal_50 = generate_signatures(user_movies, 50 , function_name='universal')\n",
    "print(\"-\" * 80)\n",
    "\n",
    "# Using Polynomial hash functions\n",
    "\n",
    "print(\"Generating signatures with Polynomial hash function --> 50 hash functions:\")\n",
    "signatures_polynomial_50 = generate_signatures(user_movies, 50 , function_name='polynomial')\n"
   ]
  },
  {
   "cell_type": "code",
   "execution_count": 119,
   "id": "38565c99",
   "metadata": {},
   "outputs": [
    {
     "name": "stdout",
     "output_type": "stream",
     "text": [
      "\n",
      " -- User 1 --\n",
      "Movie IDs (before signature): {2, 3081, 4105, 1036, 5146, 541, 29, 32, 4128, 4133, 47, 1584, 5679, 50, 5171, 2100, 1079, 1080, 1089, 1090, 2628, 2118, 1097, 589, 7757, 7247, 593, 3153, 2644, 2648, 2138, 2140, 2143, 6242, 6754, 6755, 2664, 112, 1136, 4720, 6774, 2683, 2173, 2174, 4226, 2692, 653, 2193, 2194, 4754, 151, 6807, 2716, 5797, 1193, 1196, 1198, 1200, 1201, 6834, 8368, 1208, 5816, 6333, 1214, 1215, 1217, 3265, 1219, 1222, 2761, 2762, 2253, 4306, 1750, 1240, 1243, 7387, 7389, 1246, 223, 1249, 6888, 1258, 1259, 1261, 1262, 2288, 1266, 2291, 2804, 253, 1278, 8961, 260, 5898, 1291, 4878, 7438, 1304, 7449, 7454, 4896, 8482, 293, 296, 1321, 4911, 3889, 4915, 1333, 1848, 2872, 7482, 8507, 318, 5952, 1348, 1350, 4941, 1358, 337, 7001, 1370, 3932, 1374, 4446, 2918, 6502, 1387, 3438, 367, 5999, 4467, 4980, 1920, 2944, 4993, 2947, 7045, 7046, 6539, 2959, 3476, 919, 2968, 3479, 924, 3996, 3997, 3489, 5026, 5540, 3499, 4011, 1967, 5039, 5040, 3000, 4027, 8636, 1994, 1997, 6093, 31696, 3030, 4571, 3037, 2021, 2542, 1009, 7153, 8690, 1525, 7164}\n",
      "MinHash signature: [44, 5, 9, 11, 48, 2, 74, 32, 78, 131, 61, 142, 23, 4, 146, 159, 256, 11, 12, 217, 84, 23, 151, 17, 7, 150, 12, 114, 22, 20, 150, 160, 239, 14, 77, 54, 66, 44, 114, 50, 35, 16, 50, 2, 9, 2, 16, 15, 183, 24]\n",
      "\n",
      " -- User 2 --\n",
      "Movie IDs (before signature): {3, 260, 2948, 2951, 1544, 1673, 266, 908, 2454, 2455, 924, 541, 3753, 2858, 1196, 1580, 1965, 1327, 1969, 1970, 1971, 1972, 1973, 1974, 3513, 1210, 1214, 62, 1986, 70, 1356, 589, 3150, 3534, 3917, 3918, 3959, 3923, 1748, 469, 3926, 3159, 3927, 3928, 3930, 480, 1121, 1249, 3555, 3937, 3173, 2791, 1259, 3565, 110, 242, 2291, 1270, 3703, 3450, 891}\n",
      "MinHash signature: [73, 23, 132, 236, 79, 125, 87, 105, 378, 131, 33, 142, 11, 495, 545, 147, 137, 283, 12, 89, 84, 269, 368, 14, 7, 314, 169, 27, 70, 79, 434, 394, 73, 42, 32, 131, 116, 221, 203, 154, 30, 21, 345, 144, 442, 514, 17, 39, 252, 13]\n",
      "\n",
      " -- User 3 --\n",
      "Movie IDs (before signature): {512, 1, 3072, 2053, 2054, 2567, 1544, 2571, 1037, 2574, 24, 3098, 2076, 541, 32, 1060, 2093, 1584, 1073, 50, 1077, 2613, 1079, 2615, 2105, 1084, 1089, 1603, 2628, 2117, 1094, 2118, 3142, 1097, 589, 1103, 2640, 593, 2642, 2643, 3070, 2140, 2657, 610, 1125, 2150, 1127, 2662, 1129, 2668, 2676, 1653, 2694, 1674, 2699, 1676, 2710, 1179, 160, 2722, 1188, 1193, 1196, 173, 1197, 175, 1198, 1199, 1200, 1206, 1208, 1721, 1210, 2236, 1213, 1214, 1215, 2750, 1219, 196, 1220, 1222, 1221, 1225, 1228, 718, 1230, 1240, 1242, 223, 1247, 1762, 2788, 2791, 1257, 1258, 1259, 1261, 2797, 2288, 1266, 1779, 1270, 1272, 2808, 1276, 1278, 260, 2311, 1288, 780, 1810, 788, 1304, 2329, 1307, 1831, 1321, 2857, 1330, 1333, 2872, 316, 318, 2366, 1345, 2371, 329, 1356, 337, 1876, 2900, 2901, 2391, 858, 1882, 1372, 1373, 1374, 1375, 1376, 2916, 2918, 2407, 1396, 1909, 2428, 1917, 1921, 2947, 2948, 2949, 904, 905, 2448, 919, 2455, 2968, 924, 2985, 2986, 440, 953, 442, 5060, 968, 457, 2505, 2009, 3033, 2011, 2012, 3039, 480, 2528, 2018, 2529, 2530, 2531, 2532, 2533, 490, 2028, 2541, 2034, 2551, 2046}\n",
      "MinHash signature: [114, 5, 9, 11, 86, 69, 38, 9, 1, 5, 24, 115, 77, 4, 104, 46, 80, 96, 27, 109, 84, 27, 16, 11, 7, 42, 84, 1, 12, 138, 86, 7, 26, 186, 6, 49, 1, 82, 4, 50, 14, 4, 148, 2, 9, 26, 17, 24, 102, 63]\n",
      "\n",
      " -- User 4 --\n",
      "Movie IDs (before signature): {6, 519, 520, 10, 19, 531, 32, 420, 165, 548, 431, 440, 454, 329, 586, 589, 594, 596, 733, 350, 480, 356, 489, 367, 368, 370, 377, 380}\n",
      "MinHash signature: [149, 725, 28, 10, 448, 125, 222, 273, 249, 131, 781, 240, 311, 695, 26, 170, 610, 880, 27, 499, 84, 16, 95, 365, 1326, 7, 161, 592, 506, 450, 248, 63, 2, 253, 107, 242, 45, 283, 952, 421, 13, 1325, 58, 7, 741, 650, 497, 112, 237, 139]\n",
      "\n",
      " -- User 5 --\n",
      "Movie IDs (before signature): {2, 515, 260, 1028, 648, 11, 140, 141, 780, 1035, 1036, 17, 529, 531, 788, 1042, 150, 282, 671, 1196, 1198, 1073, 1079, 440, 1080, 1210, 316, 60, 318, 62, 832, 708, 454, 457, 1097, 587, 588, 589, 590, 720, 593, 594, 595, 475, 350, 224, 480, 608, 736, 1291, 104, 235, 364, 491, 110, 367, 368, 508, 370, 1136, 500, 1393, 631, 376, 377, 380}\n",
      "MinHash signature: [279, 82, 132, 25, 132, 125, 222, 218, 20, 131, 305, 164, 714, 58, 63, 139, 621, 102, 27, 53, 84, 36, 95, 42, 768, 179, 242, 27, 183, 256, 150, 54, 687, 365, 107, 130, 45, 246, 42, 18, 35, 101, 58, 160, 9, 232, 51, 113, 62, 114]\n"
     ]
    }
   ],
   "source": [
    "# Show the top five userID and their signatures compared to their original MovieID sets\n",
    "for userid in list(signatures_linear_50.keys())[:5]:\n",
    "    print(f\"\\n -- User {userid} --\")\n",
    "    print(f\"Movie IDs (before signature): {user_movies[userid]}\")  \n",
    "    print(f\"MinHash signature: {list(signatures_linear_50[userid])}\")"
   ]
  },
  {
   "cell_type": "markdown",
   "id": "ea08348d",
   "metadata": {},
   "source": [
    "<h4> Now we compute the similarities for the three Hash Functions using the previously defined function for each set of signatures with a different number of hash functions </h4>\n",
    " "
   ]
  },
  {
   "cell_type": "code",
   "execution_count": 120,
   "id": "0ce1e06c",
   "metadata": {},
   "outputs": [
    {
     "name": "stdout",
     "output_type": "stream",
     "text": [
      "Similarities with Linear Hash Function --> 50 Hash Functions:\n",
      "Users: (41335, 19403) --> Estimated: 1.00, Exact: 1.00, Loss: 0.00\n",
      "Users: (67478, 28968) --> Estimated: 0.96, Exact: 0.87, Loss: 0.09\n",
      "Users: (45329, 87892) --> Estimated: 0.96, Exact: 0.95, Loss: 0.01\n",
      "Users: (35593, 82226) --> Estimated: 0.94, Exact: 0.97, Loss: 0.03\n",
      "Users: (33332, 104843) --> Estimated: 0.92, Exact: 0.84, Loss: 0.08\n",
      "Users: (35593, 15068) --> Estimated: 0.90, Exact: 0.83, Loss: 0.07\n",
      "Users: (33332, 133392) --> Estimated: 0.90, Exact: 0.76, Loss: 0.14\n",
      "Users: (33332, 84928) --> Estimated: 0.90, Exact: 0.88, Loss: 0.02\n",
      "Users: (15068, 125825) --> Estimated: 0.90, Exact: 0.82, Loss: 0.08\n",
      "Users: (2028, 41335) --> Estimated: 0.88, Exact: 0.83, Loss: 0.05\n",
      "\n",
      "Average Loss: 0.0802\n",
      "\n",
      "Number of similar user pairs (estimated similarity > 0.6): 1896, Number of non similar user pairs is 3104\n",
      "None\n"
     ]
    }
   ],
   "source": [
    "# 1. Linear\n",
    "print(\"Similarities with Linear Hash Function --> 50 Hash Functions:\")\n",
    "print(compute_similarities(signatures_linear_50, user_movies, hash_functions=50))"
   ]
  },
  {
   "cell_type": "code",
   "execution_count": 121,
   "id": "3fd56250",
   "metadata": {},
   "outputs": [
    {
     "name": "stdout",
     "output_type": "stream",
     "text": [
      "Similarities with Universal Hash Function --> 50 Hash Functions:\n",
      "Users: (41335, 19403) --> Estimated: 1.00, Exact: 1.00, Loss: 0.00\n",
      "Users: (26219, 82226) --> Estimated: 1.00, Exact: 0.87, Loss: 0.13\n",
      "Users: (26219, 35593) --> Estimated: 0.98, Exact: 0.84, Loss: 0.14\n",
      "Users: (35593, 82226) --> Estimated: 0.98, Exact: 0.97, Loss: 0.01\n",
      "Users: (35593, 125825) --> Estimated: 0.96, Exact: 0.87, Loss: 0.09\n",
      "Users: (67478, 28968) --> Estimated: 0.96, Exact: 0.87, Loss: 0.09\n",
      "Users: (45329, 87892) --> Estimated: 0.96, Exact: 0.95, Loss: 0.01\n",
      "Users: (26219, 125825) --> Estimated: 0.94, Exact: 0.77, Loss: 0.17\n",
      "Users: (82226, 125825) --> Estimated: 0.94, Exact: 0.84, Loss: 0.10\n",
      "Users: (2028, 41335) --> Estimated: 0.92, Exact: 0.83, Loss: 0.09\n",
      "\n",
      "Average Loss: 0.1303\n",
      "\n",
      "Number of similar user pairs (estimated similarity > 0.6): 4021, Number of non similar user pairs is 979\n",
      "None\n"
     ]
    }
   ],
   "source": [
    "# 2. Universal\n",
    "print(\"Similarities with Universal Hash Function --> 50 Hash Functions:\")\n",
    "print(compute_similarities(signatures_universal_50, user_movies, hash_functions=50))"
   ]
  },
  {
   "cell_type": "code",
   "execution_count": 122,
   "id": "f895bddc",
   "metadata": {},
   "outputs": [
    {
     "name": "stdout",
     "output_type": "stream",
     "text": [
      "Similarities with Polynomial Hash Function --> 50 Hash Functions:\n",
      "Users: (41335, 19403) --> Estimated: 1.00, Exact: 1.00, Loss: 0.00\n",
      "Users: (35593, 82226) --> Estimated: 0.96, Exact: 0.97, Loss: 0.01\n",
      "Users: (45329, 87892) --> Estimated: 0.94, Exact: 0.95, Loss: 0.01\n",
      "Users: (50559, 97224) --> Estimated: 0.92, Exact: 0.80, Loss: 0.12\n",
      "Users: (26219, 82226) --> Estimated: 0.90, Exact: 0.87, Loss: 0.03\n",
      "Users: (33332, 84928) --> Estimated: 0.90, Exact: 0.88, Loss: 0.02\n",
      "Users: (18916, 41335) --> Estimated: 0.88, Exact: 0.82, Loss: 0.06\n",
      "Users: (18916, 19403) --> Estimated: 0.88, Exact: 0.82, Loss: 0.06\n",
      "Users: (41335, 135966) --> Estimated: 0.88, Exact: 0.79, Loss: 0.09\n",
      "Users: (35593, 125825) --> Estimated: 0.88, Exact: 0.87, Loss: 0.01\n",
      "\n",
      "Average Loss: 0.0730\n",
      "\n",
      "Number of similar user pairs (estimated similarity > 0.6): 1770, Number of non similar user pairs is 3230\n",
      "None\n"
     ]
    }
   ],
   "source": [
    "# 3. Polynomial \n",
    "print(\"Similarities with Polynomial Hash Function --> 50 Hash Functions:\")\n",
    "print(compute_similarities(signatures_polynomial_50, user_movies, hash_functions=50))"
   ]
  },
  {
   "cell_type": "markdown",
   "id": "25fd13c0",
   "metadata": {},
   "source": [
    "# MinHash Similarity Comparison\n",
    "\n",
    "---\n",
    "\n",
    "### 1. **Linear Hash Function (50 Hash Functions)**\n",
    "- The linear hash function has the **lowest average loss** among the three. This indicates that its similarity estimates are consistently close to the true values.\n",
    "- Given its balance between accuracy and computational efficiency, it is the **best choice** for applications that require a good trade-off between accuracy and processing time.\n",
    "\n",
    "---\n",
    "\n",
    "### 2. **Universal Hash Function (50 Hash Functions)**\n",
    "- The universal hash function has a **computational complexity similar to the linear one**. In our tests, the **average loss is unstable**, in most cases it was slightly higher among the other functions with a loss of 0.1, although it can also achieve a lower loss. It remains a good alternative to the linear hash function \n",
    "---\n",
    "\n",
    "### 3. **Polynomial Hash Function (50 Hash Functions)**\n",
    "- The polynomial hash function shows a **relatively low average loss**, but is the **most computationally expensive** of the three. It is a good alternative when higher precision is needed, but with a higher computational cost than the linear function.\n",
    "---\n",
    "\n",
    "### **Conclusion**\n",
    "- The linear hash function is the best choice, with the lowest average loss and good computational performance."
   ]
  },
  {
   "cell_type": "markdown",
   "id": "9127433f",
   "metadata": {},
   "source": [
    "<h3> To further improve the similarity and reduce the average loss, we increase the number of Hash functions for the linear. </h3>\n",
    "\n",
    "In details:\n",
    "- We define signatures for each user id with a higher number of Hash functions (100,200). We expect that higher number of functions will lead to higher computational cost but very high accuracy ;\n",
    "- We calculate the estimated Jaccard with 100,200 Hash functions and observe the differences from the exact Jaccard between different users ;\n",
    "- Let's compare the results by looking at the average loss calculated on a random sample of 5000 users as a metric ;"
   ]
  },
  {
   "cell_type": "code",
   "execution_count": 65,
   "id": "c54a9449",
   "metadata": {},
   "outputs": [
    {
     "name": "stderr",
     "output_type": "stream",
     "text": [
      "Generating Signatures: 100%|██████████| 138493/138493 [01:31<00:00, 1519.91it/s]\n"
     ]
    },
    {
     "name": "stdout",
     "output_type": "stream",
     "text": [
      "--------------------------------------------------------------------------------\n"
     ]
    },
    {
     "name": "stderr",
     "output_type": "stream",
     "text": [
      "Generating Signatures: 100%|██████████| 138493/138493 [02:39<00:00, 866.89it/s] \n"
     ]
    }
   ],
   "source": [
    "# Let's try with 100 and 200 functions to see if the avg loss will be lower\n",
    "\n",
    "# The length of the signature increases further, improving the similarity\n",
    "signatures_linear_100 = generate_signatures(user_movies, 100,function_name='linear')\n",
    "\n",
    "print(\"-\" * 80) \n",
    "\n",
    "# Much more detailed signature, suitable for the scenario where high precision is needed\n",
    "# It is the most expensive in terms of memory and computation.\n",
    "signatures_linear_200 = generate_signatures(user_movies, 200,function_name='linear')"
   ]
  },
  {
   "cell_type": "markdown",
   "id": "34087cd4",
   "metadata": {},
   "source": [
    "<h3> Compare similarity for 100-200 number of Hash Functions </h3>"
   ]
  },
  {
   "cell_type": "code",
   "execution_count": 66,
   "id": "45365cf4",
   "metadata": {},
   "outputs": [
    {
     "name": "stdout",
     "output_type": "stream",
     "text": [
      "Similarities with 100 Hash Functions:\n",
      "Users: (41335, 19403) --> Estimated: 1.00, Exact: 1.00, Loss: 0.00\n",
      "Users: (35593, 82226) --> Estimated: 0.98, Exact: 0.97, Loss: 0.01\n",
      "Users: (45329, 87892) --> Estimated: 0.94, Exact: 0.95, Loss: 0.01\n",
      "Users: (33332, 84928) --> Estimated: 0.90, Exact: 0.88, Loss: 0.02\n",
      "Users: (9879, 28970) --> Estimated: 0.89, Exact: 0.82, Loss: 0.07\n",
      "Users: (23147, 15068) --> Estimated: 0.88, Exact: 0.81, Loss: 0.07\n",
      "Users: (67478, 28968) --> Estimated: 0.88, Exact: 0.87, Loss: 0.01\n",
      "Users: (2028, 41335) --> Estimated: 0.87, Exact: 0.83, Loss: 0.04\n",
      "Users: (2028, 19403) --> Estimated: 0.87, Exact: 0.83, Loss: 0.04\n",
      "Users: (26219, 82226) --> Estimated: 0.85, Exact: 0.87, Loss: 0.02\n",
      "\n",
      "Average Loss: 0.0427\n",
      "\n",
      "Number of similar user pairs (estimated similarity > 0.6): 1453, Number of non similar user pairs is 3547\n",
      "None\n",
      "--------------------------------------------------------------------------------\n",
      "Similarities with 200 Hash Functions:\n",
      "Users: (41335, 19403) --> Estimated: 1.00, Exact: 1.00, Loss: 0.00\n",
      "Users: (35593, 82226) --> Estimated: 0.97, Exact: 0.97, Loss: 0.01\n",
      "Users: (45329, 87892) --> Estimated: 0.94, Exact: 0.95, Loss: 0.01\n",
      "Users: (35593, 125825) --> Estimated: 0.88, Exact: 0.87, Loss: 0.01\n",
      "Users: (33332, 84928) --> Estimated: 0.87, Exact: 0.88, Loss: 0.01\n",
      "Users: (11388, 63279) --> Estimated: 0.87, Exact: 0.85, Loss: 0.02\n",
      "Users: (82226, 125825) --> Estimated: 0.85, Exact: 0.84, Loss: 0.02\n",
      "Users: (26219, 82226) --> Estimated: 0.85, Exact: 0.87, Loss: 0.02\n",
      "Users: (135966, 97333) --> Estimated: 0.85, Exact: 0.88, Loss: 0.03\n",
      "Users: (41335, 44284) --> Estimated: 0.84, Exact: 0.83, Loss: 0.02\n",
      "\n",
      "Average Loss: 0.0332\n",
      "\n",
      "Number of similar user pairs (estimated similarity > 0.6): 1596, Number of non similar user pairs is 3404\n",
      "None\n"
     ]
    }
   ],
   "source": [
    "print(\"Similarities with 100 Hash Functions:\")\n",
    "print(compute_similarities(signatures_linear_100,user_movies,hash_functions=100))\n",
    "\n",
    "print(\"-\" * 80)\n",
    "\n",
    "print(\"Similarities with 200 Hash Functions:\")\n",
    "print(compute_similarities(signatures_linear_200,user_movies,hash_functions=200))"
   ]
  },
  {
   "cell_type": "markdown",
   "id": "f01e07ee-5e7f-4be9-8c7a-faa43d1ca92b",
   "metadata": {},
   "source": [
    "# 1.3.0 Locality-Sensitive Hashing (LSH)"
   ]
  },
  {
   "cell_type": "markdown",
   "id": "fe105869",
   "metadata": {},
   "source": [
    "Our approach leverages Locality-Sensitive Hashing (LSH) with 200 hash functions to efficiently compute user similarities at scale. By generating compact signatures for each user, we dramatically reduce computational complexity from O(n²) to near-linear time.\n",
    "\n",
    "Key implementation details:\n",
    "\n",
    "1. 200 hash functions create robust user signatures\n",
    "2. Low average loss ensures high-quality similarity detection\n",
    "\n",
    "The LSH model transforms the Jaccard similarity computation among the 138,000 users of the dataset, reducing the complexity from O(n²) to O(num_bands $\\cdot$ rows_per_band + k) where:\n",
    "- **num_bands** is the number of bands the signature is divided into ;\n",
    "- **rows_per_band** is the number of rows per band (i.e., the length of each portion of the signature) ;\n",
    "- **k** is the number of candidate users found in the same matching buckets.\n",
    "\n",
    "This approach enables efficient analysis of the large-scale user network by minimizing computational overhead, preserving similarity patterns, and converting numerous pairwise comparisons into a fast approximation linear method."
   ]
  },
  {
   "cell_type": "markdown",
   "id": "abe2e12d",
   "metadata": {},
   "source": [
    "**Bucket Creation:** For each user, divide the MinHash signature into bands and hash each band to form buckets. Users with similar bands should fall into the same buckets."
   ]
  },
  {
   "cell_type": "code",
   "execution_count": 123,
   "id": "b7076ce2-3828-4f9f-8570-eb3388f82683",
   "metadata": {
    "tags": []
   },
   "outputs": [
    {
     "name": "stdout",
     "output_type": "stream",
     "text": [
      "Help on class LSH in module locality_sensitive_hashing:\n",
      "\n",
      "class LSH(builtins.object)\n",
      " |  LSH(num_bands: int, rows_per_band: int)\n",
      " |  \n",
      " |  Methods defined here:\n",
      " |  \n",
      " |  __init__(self, num_bands: int, rows_per_band: int)\n",
      " |      Initialize the Locality Sensitive Hashing (LSH) object.\n",
      " |      \n",
      " |      Args:\n",
      " |          num_bands (int): Number of bands to divide signatures into.\n",
      " |          rows_per_band (int): Number of rows (hash values) in each band.\n",
      " |  \n",
      " |  build_buckets(self, signatures: dict)\n",
      " |      Build hash buckets by dividing signatures into bands.\n",
      " |      \n",
      " |      This method populates the buckets with user IDs that have similar \n",
      " |      signature bands. It helps in quickly finding similar items by \n",
      " |      reducing the search space.\n",
      " |      \n",
      " |      Args:\n",
      " |          signatures (dict): Dictionary with user IDs as keys and signature arrays as values.\n",
      " |      Returns:\n",
      " |              None\n",
      " |  \n",
      " |  create_bucket_hash(self, band_index: int, band_signature: list)\n",
      " |      Create a hash for the bucket combine band index and signature values\n",
      " |      \n",
      " |      Returns:\n",
      " |          str: A unique hash code for the bucket\n",
      " |  \n",
      " |  query(self, query_signature: list, query_user_id: int)\n",
      " |      Find candidate similar users using LSH buckets.\n",
      " |      \n",
      " |      This method identifies users with at least one matching signature band, \n",
      " |      providing potential similar candidates quickly.\n",
      " |      \n",
      " |      Args:\n",
      " |          query_signature (list): Signature array of the query user\n",
      " |          query_user_id (int): ID of the user making the query\n",
      " |      \n",
      " |      Returns:\n",
      " |          list: List of candidate user IDs similar to the query user\n",
      " |  \n",
      " |  view_buckets(self, num_buckets: int = 10)\n",
      " |      Display the contents of a specified number of random buckets.\n",
      " |      \n",
      " |      This method is useful for debugging and understanding \n",
      " |      how signatures are distributed across buckets.\n",
      " |      \n",
      " |      Args:\n",
      " |          num_buckets (int, optional): Number of random buckets to display. \n",
      " |      \n",
      " |      Returns:\n",
      " |          None\n",
      " |  \n",
      " |  ----------------------------------------------------------------------\n",
      " |  Data descriptors defined here:\n",
      " |  \n",
      " |  __dict__\n",
      " |      dictionary for instance variables (if defined)\n",
      " |  \n",
      " |  __weakref__\n",
      " |      list of weak references to the object (if defined)\n",
      "\n"
     ]
    }
   ],
   "source": [
    "from locality_sensitive_hashing import LSH\n",
    "help(LSH)"
   ]
  },
  {
   "cell_type": "markdown",
   "id": "3f66934a",
   "metadata": {},
   "source": [
    "### Optimal number of Bands and Rows for 200 Hash Functions\n",
    "\n",
    "Given a signature matrix with **200 hash functions**, the total number of rows \\( n \\) is fixed at 200. The number of **bands (b)** and **rows per band (r)** must satisfy the equation:\n",
    "\n",
    "$ n = b \\times r $\n",
    "\n",
    "---\n",
    "\n",
    "#### Choosing the optimal numbers of bands and rows per band\n",
    "  **Balance False Positives and False Negatives:**  \n",
    "   - Fewer bands (b) and more rows per band (r) reduce false positives but increase false negatives;\n",
    "   - More bands and fewer rows per band reduce false negatives but increase false positives.\n",
    "\n",
    "We chose **10 bands** \\( b = 10 \\) and **20 rows per band** \\( r = 20 \\). Using fewer bands reduces the computational cost compared to configurations with more bands, while 20 rows per band ensures enough to reduce the impact of noise in the hash signatures.\n",
    "\n"
   ]
  },
  {
   "cell_type": "code",
   "execution_count": 124,
   "id": "4f42c7f5",
   "metadata": {},
   "outputs": [],
   "source": [
    "# Initialize LSH with 20 bands, 10 rows per band\n",
    "lsh_model = LSH(num_bands=20, rows_per_band=10)\n",
    "    \n",
    "# Build buckets from signatures with 200 hash functions\n",
    "lsh_model.build_buckets(signatures_linear_200)"
   ]
  },
  {
   "cell_type": "markdown",
   "id": "4aee3a95",
   "metadata": {},
   "source": [
    "1. **Bucket Creation**: For each user, we divide the MinHash signature into bands and hash each band to form buckets. Users with similar bands should fall into the same buckets;\n",
    "\n",
    "2. **Debug** : After creating buckets, we check bucket contents to verify that multiple users are being grouped in the same buckets."
   ]
  },
  {
   "cell_type": "code",
   "execution_count": 125,
   "id": "04d12e78",
   "metadata": {},
   "outputs": [
    {
     "name": "stdout",
     "output_type": "stream",
     "text": [
      "Bucket LSH-980251: [31924, 58833]\n",
      "Bucket LSH-497825: [21013, 72705, 87017, 104896]\n",
      "Bucket LSH-457560: [29463, 35835, 54558, 55296, 100724, 104939]\n",
      "Bucket LSH-561422: [9586, 69911]\n",
      "Bucket LSH-033400: [67919]\n",
      "Bucket LSH-291152: [12000, 114862]\n",
      "Bucket LSH-382944: [16999, 22132, 28949, 32341, 72211, 72256, 115874, 117125, 120476, 121726, 122590, 131672]\n",
      "Bucket LSH-773351: [30576, 48513, 108295]\n",
      "Bucket LSH-433043: [88018]\n",
      "Bucket LSH-459551: [3678, 28045, 115501, 117803]\n"
     ]
    }
   ],
   "source": [
    "# .view_buckets of LSH class show 10 random buckets and their respect contents\n",
    "lsh_model.view_buckets()"
   ]
  },
  {
   "cell_type": "markdown",
   "id": "3ed44218",
   "metadata": {},
   "source": [
    "<h3> <strong> Query: </strong> for a given user, identify the two most similar users based on their bucket placement </h3>\n"
   ]
  },
  {
   "cell_type": "code",
   "execution_count": 126,
   "id": "adc19369",
   "metadata": {},
   "outputs": [
    {
     "name": "stdout",
     "output_type": "stream",
     "text": [
      "Set of all similars users of user 102719 : {56960, 94848, 110466, 95491, 60678, 7559, 85254, 57479, 84874, 72336, 10771, 37268, 112663, 101661, 47142, 12843, 136111, 26417, 111538, 34739, 84533, 15413, 120375, 34488, 81081, 103862, 63287, 106428, 110014, 104393, 55884, 48975, 6994, 32339, 55130, 52189, 134241, 82277, 13158, 91495, 59239, 125933, 133103, 86129, 60403, 15733, 105975, 75259, 100988} \n",
      "number of similar users: 49\n",
      "\n",
      "The two most similar users of user 102719 are: [56960, 94848]\n"
     ]
    }
   ],
   "source": [
    "# Randomly select a user ID\n",
    "user_id = random.randint(1, len(user_movies))\n",
    "\n",
    "# Get the query user's signature\n",
    "query_signature = signatures_linear_200[user_id]\n",
    "\n",
    "# Query for similar users using LSH\n",
    "similar_users = lsh_model.query(query_signature, user_id)\n",
    "\n",
    "# Sort the similar users by exact Jaccard similarity in descending order\n",
    "similar_users = sorted(similar_users, key=lambda x: exact_jaccard_similarity(signatures_linear_200[user_id], signatures_linear_200[x]), reverse=True)\n",
    "\n",
    "# Get the top 2 most similar users\n",
    "top_2_similar_users = similar_users[:2]\n",
    "\n",
    "print(f\"Set of all similars users of user {user_id} : {set(similar_users)} \")\n",
    "print(f\"number of similar users: {len(similar_users)}\")\n",
    "print(f\"\\nThe two most similar users of user {user_id} are: {top_2_similar_users}\")"
   ]
  },
  {
   "cell_type": "markdown",
   "id": "eb73bbc7",
   "metadata": {},
   "source": [
    "<h3> <strong> Movie Recommendation Logic </strong> </h3>\n",
    "\n",
    "\n",
    "1. If both similar users have rated a movie, recommend this movie based on the average rating ;\n",
    "\n",
    "2. If there are no commonly rated movies, recommend the top-rated movies of the most similar user ;\n",
    "\n",
    "3. Final Recommendation: Provide at most five movies to the user."
   ]
  },
  {
   "cell_type": "code",
   "execution_count": 127,
   "id": "30026d48",
   "metadata": {},
   "outputs": [
    {
     "data": {
      "text/html": [
       "<div>\n",
       "<style scoped>\n",
       "    .dataframe tbody tr th:only-of-type {\n",
       "        vertical-align: middle;\n",
       "    }\n",
       "\n",
       "    .dataframe tbody tr th {\n",
       "        vertical-align: top;\n",
       "    }\n",
       "\n",
       "    .dataframe thead th {\n",
       "        text-align: right;\n",
       "    }\n",
       "</style>\n",
       "<table border=\"1\" class=\"dataframe\">\n",
       "  <thead>\n",
       "    <tr style=\"text-align: right;\">\n",
       "      <th></th>\n",
       "      <th>userId</th>\n",
       "      <th>Movie Title</th>\n",
       "      <th>rating</th>\n",
       "    </tr>\n",
       "  </thead>\n",
       "  <tbody>\n",
       "    <tr>\n",
       "      <th>13727288</th>\n",
       "      <td>94848</td>\n",
       "      <td>Sherlock Holmes: A Game of Shadows</td>\n",
       "      <td>5.0</td>\n",
       "    </tr>\n",
       "    <tr>\n",
       "      <th>13727281</th>\n",
       "      <td>94848</td>\n",
       "      <td>WALL·E</td>\n",
       "      <td>5.0</td>\n",
       "    </tr>\n",
       "    <tr>\n",
       "      <th>13727213</th>\n",
       "      <td>94848</td>\n",
       "      <td>Fried Green Tomatoes</td>\n",
       "      <td>5.0</td>\n",
       "    </tr>\n",
       "    <tr>\n",
       "      <th>13727240</th>\n",
       "      <td>94848</td>\n",
       "      <td>Incredibly True Adventure of Two Girls in Love...</td>\n",
       "      <td>5.0</td>\n",
       "    </tr>\n",
       "    <tr>\n",
       "      <th>8255868</th>\n",
       "      <td>56960</td>\n",
       "      <td>Inception</td>\n",
       "      <td>5.0</td>\n",
       "    </tr>\n",
       "    <tr>\n",
       "      <th>8255865</th>\n",
       "      <td>56960</td>\n",
       "      <td>Lord of the Rings: The Return of the King, The</td>\n",
       "      <td>5.0</td>\n",
       "    </tr>\n",
       "    <tr>\n",
       "      <th>13727256</th>\n",
       "      <td>94848</td>\n",
       "      <td>Lord of the Rings: The Two Towers, The</td>\n",
       "      <td>5.0</td>\n",
       "    </tr>\n",
       "    <tr>\n",
       "      <th>13727259</th>\n",
       "      <td>94848</td>\n",
       "      <td>Under the Tuscan Sun</td>\n",
       "      <td>5.0</td>\n",
       "    </tr>\n",
       "    <tr>\n",
       "      <th>13727261</th>\n",
       "      <td>94848</td>\n",
       "      <td>Lord of the Rings: The Return of the King, The</td>\n",
       "      <td>5.0</td>\n",
       "    </tr>\n",
       "    <tr>\n",
       "      <th>13727272</th>\n",
       "      <td>94848</td>\n",
       "      <td>V for Vendetta</td>\n",
       "      <td>5.0</td>\n",
       "    </tr>\n",
       "  </tbody>\n",
       "</table>\n",
       "</div>"
      ],
      "text/plain": [
       "          userId                                        Movie Title  rating\n",
       "13727288   94848                Sherlock Holmes: A Game of Shadows      5.0\n",
       "13727281   94848                                            WALL·E      5.0\n",
       "13727213   94848                              Fried Green Tomatoes      5.0\n",
       "13727240   94848  Incredibly True Adventure of Two Girls in Love...     5.0\n",
       "8255868    56960                                         Inception      5.0\n",
       "8255865    56960    Lord of the Rings: The Return of the King, The      5.0\n",
       "13727256   94848            Lord of the Rings: The Two Towers, The      5.0\n",
       "13727259   94848                              Under the Tuscan Sun      5.0\n",
       "13727261   94848    Lord of the Rings: The Return of the King, The      5.0\n",
       "13727272   94848                                    V for Vendetta      5.0"
      ]
     },
     "execution_count": 127,
     "metadata": {},
     "output_type": "execute_result"
    }
   ],
   "source": [
    "# Filter the dataset by the two users similar to the query user ID\n",
    "filtered_ratings=rating[[\"userId\",\"Movie Title\",\"rating\"]].loc[rating[\"userId\"].isin(top_2_similar_users)]\n",
    "# Show the first 10 result in descending order\n",
    "filtered_ratings.sort_values('rating',ascending=False).head(10)"
   ]
  },
  {
   "cell_type": "code",
   "execution_count": 128,
   "id": "f8972a14",
   "metadata": {},
   "outputs": [
    {
     "name": "stdout",
     "output_type": "stream",
     "text": [
      "Common movies rated by both similar users:\n",
      "Common Movie: Lord of the Rings: The Return of the King, The  (average rating: 5.00)\n",
      "Common Movie: Dark Knight, The  (average rating: 4.75)\n",
      "Common Movie: Lord of the Rings: The Fellowship of the Ring, The  (average rating: 4.75)\n",
      "Common Movie: Lord of the Rings: The Two Towers, The  (average rating: 4.75)\n",
      "Common Movie: Inception  (average rating: 4.50)\n"
     ]
    }
   ],
   "source": [
    "# Find movies rated by both similar users\n",
    "\n",
    "top_rated_by_user=None\n",
    "movies_rated_by_similar_users = filtered_ratings.groupby('Movie Title').filter(lambda x: len(x['userId'].isin(top_2_similar_users)) == 2)\n",
    "\n",
    "# Calculate average ratings for commonly rated movies\n",
    "average_ratings = movies_rated_by_similar_users.groupby('Movie Title')['rating'].mean()\n",
    "\n",
    "# Count the number of common movies to determine recommendation strategy\n",
    "num_movies=len(average_ratings)\n",
    "\n",
    "if average_ratings.empty:\n",
    "    # If no common movies, find the top-rated movies by each similar user\n",
    "    top_rated_by_user = filtered_ratings.loc[filtered_ratings.groupby('userId')['rating'].idxmax()]\n",
    "    print(\"No common movies rated by both users. Here are the top ratings per user:\")\n",
    "    print(top_rated_by_user)\n",
    "    num_movies=2 \n",
    "else:\n",
    "    # Print the top 5 common movies with their average ratings\n",
    "    print(\"Common movies rated by both similar users:\")\n",
    "    for movie, avg_rating in average_ratings.nlargest(5).items():  # Provide at most five movies to the user\n",
    "        print(f\"Common Movie: {movie} (average rating: {avg_rating:.2f})\")\n",
    "\n",
    "# Supplementary strategy if fewer than 5 common movies are found, complete the list using other high-rated movies by the most similar users.\n",
    "if num_movies < 5:\n",
    "    # Exclude the movies that have been rated the highest by each user, if applicable\n",
    "    if top_rated_by_user is not None:\n",
    "        filtered_ratings_excluded = filtered_ratings[~filtered_ratings['Movie Title'].isin(top_rated_by_user['Movie Title'])]\n",
    "    else:\n",
    "        filtered_ratings_excluded = filtered_ratings\n",
    "\n",
    "    # Calculate how many more movies are needed to reach 5\n",
    "    remaining_movies = 5 - num_movies\n",
    "\n",
    "    # Get the top-rated movies (by each user) from the remaining movies after exclusion\n",
    "    top_remaining_movies = filtered_ratings_excluded.loc[filtered_ratings_excluded.groupby('Movie Title')['rating'].idxmax()].sort_values('rating', ascending=False).head(remaining_movies)\n",
    "\n",
    "    print(f\"\\nSince there are only {num_movies} common movies, showing the top-rated movies from each user:\")\n",
    "\n",
    "    for _, row in top_remaining_movies.iterrows():\n",
    "        print(f\"Top rating Movie: {row['Movie Title']}(rating: {row['rating']:.2f})\")"
   ]
  }
 ],
 "metadata": {
  "kernelspec": {
   "display_name": "base",
   "language": "python",
   "name": "python3"
  },
  "language_info": {
   "codemirror_mode": {
    "name": "ipython",
    "version": 3
   },
   "file_extension": ".py",
   "mimetype": "text/x-python",
   "name": "python",
   "nbconvert_exporter": "python",
   "pygments_lexer": "ipython3",
   "version": "3.11.5"
  }
 },
 "nbformat": 4,
 "nbformat_minor": 5
}
